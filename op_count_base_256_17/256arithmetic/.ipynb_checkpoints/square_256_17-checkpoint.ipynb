{
 "cells": [
  {
   "cell_type": "code",
   "execution_count": 8,
   "metadata": {},
   "outputs": [],
   "source": [
    "NO_LIMBS = 5"
   ]
  },
  {
   "cell_type": "code",
   "execution_count": 2,
   "metadata": {},
   "outputs": [
    {
     "data": {
      "text/plain": [
       "2"
      ]
     },
     "execution_count": 2,
     "metadata": {},
     "output_type": "execute_result"
    }
   ],
   "source": [
    "(int)(5/2)"
   ]
  },
  {
   "cell_type": "code",
   "execution_count": 23,
   "metadata": {},
   "outputs": [
    {
     "name": "stdout",
     "output_type": "stream",
     "text": [
      "[([], [(0, 0)]), ([(0, 1)], []), ([(0, 2)], [(1, 1)]), ([(0, 3), (1, 2)], []), ([(0, 4), (1, 3)], [(2, 2)]), ([(1, 4), (2, 3)], []), ([(2, 4)], [(3, 3)]), ([(3, 4)], []), ([], [(4, 4)])]\n"
     ]
    }
   ],
   "source": [
    "i\n",
    "prod = []\n",
    "for k in range(NO_LIMBS*2 - 1):\n",
    "    prod.append([])\n",
    "\n",
    "#First half\n",
    "for k in range(NO_LIMBS-1,-1,-1):\n",
    "    l_a = []\n",
    "    l_2a = []\n",
    "    i = 0\n",
    "    j = k\n",
    "    if k%2 == 0:\n",
    "        l_a.append((int(k/2),int(k/2)))\n",
    "    while (i < math.ceil(k/2)):\n",
    "        l_2a.append((i,j))\n",
    "        i += 1\n",
    "        j -= 1\n",
    "    prod[k] = (l_2a,l_a)\n",
    "\n",
    "#Second half\n",
    "for k in range(1, NO_LIMBS):\n",
    "    i = k\n",
    "    j = NO_LIMBS - 1\n",
    "    l_a = []\n",
    "    l_2a = []\n",
    "    \n",
    "    if (k+NO_LIMBS-1)%2 == 0:\n",
    "        l_a.append((int((k+NO_LIMBS-1)/2), int((k+NO_LIMBS-1)/2)))\n",
    "    \n",
    "    while (i<j):\n",
    "        l_2a.append((i,j))\n",
    "        i += 1\n",
    "        j -= 1\n",
    "    prod[k+NO_LIMBS-1] = (l_2a,l_a)\n",
    "\n",
    "print(prod)\n",
    "    "
   ]
  },
  {
   "cell_type": "code",
   "execution_count": 45,
   "metadata": {},
   "outputs": [],
   "source": [
    "def gen_code(prod):\n",
    "    code = \"\"\n",
    "    for i in range(0, NO_LIMBS - 1):\n",
    "        code += \"_2a[%d] = a[%d] << 1;\\n\" % (i,i)\n",
    "    code += \"\\n\"\n",
    "    \n",
    "    i = 0\n",
    "    for p in prod:\n",
    "        code += gen_line(p[0],p[1],i)\n",
    "        i += 1\n",
    "    return code"
   ]
  },
  {
   "cell_type": "code",
   "execution_count": 43,
   "metadata": {},
   "outputs": [],
   "source": [
    "def gen_line(l_2a,l_a, i):\n",
    "    l = \"r[%d] = \" %(i)\n",
    "    for x in l_2a:\n",
    "        l += \"_2a[%d]*a[%d] + \" % (x[0],x[1])\n",
    "    \n",
    "    for x in l_a:\n",
    "        l += \"a[%d]*a[%d] + \" % (x[0],x[1])\n",
    "    \n",
    "    return l[:-3] + \";\\n\""
   ]
  },
  {
   "cell_type": "code",
   "execution_count": 46,
   "metadata": {},
   "outputs": [
    {
     "name": "stdout",
     "output_type": "stream",
     "text": [
      "_2a[0] = a[0] << 1;\n",
      "_2a[1] = a[1] << 1;\n",
      "_2a[2] = a[2] << 1;\n",
      "_2a[3] = a[3] << 1;\n",
      "\n",
      "r[0] = a[0]*a[0];\n",
      "r[1] = _2a[0]*a[1];\n",
      "r[2] = _2a[0]*a[2] + a[1]*a[1];\n",
      "r[3] = _2a[0]*a[3] + _2a[1]*a[2];\n",
      "r[4] = _2a[0]*a[4] + _2a[1]*a[3] + a[2]*a[2];\n",
      "r[5] = _2a[1]*a[4] + _2a[2]*a[3];\n",
      "r[6] = _2a[2]*a[4] + a[3]*a[3];\n",
      "r[7] = _2a[3]*a[4];\n",
      "r[8] = a[4]*a[4];\n",
      "\n"
     ]
    }
   ],
   "source": [
    "gen_code(prod)"
   ]
  },
  {
   "cell_type": "code",
   "execution_count": 44,
   "metadata": {},
   "outputs": [
    {
     "name": "stdout",
     "output_type": "stream",
     "text": [
      "r[0] = _2a[0]*a[4] + _2a[1]*a[3] + a[2]*a[2];\n",
      "\n"
     ]
    }
   ],
   "source": [
    "print(gen_line(prod[4][0], prod[4][1], 0))"
   ]
  },
  {
   "cell_type": "code",
   "execution_count": null,
   "metadata": {},
   "outputs": [],
   "source": []
  }
 ],
 "metadata": {
  "kernelspec": {
   "display_name": "Python 3",
   "language": "python",
   "name": "python3"
  },
  "language_info": {
   "codemirror_mode": {
    "name": "ipython",
    "version": 3
   },
   "file_extension": ".py",
   "mimetype": "text/x-python",
   "name": "python",
   "nbconvert_exporter": "python",
   "pygments_lexer": "ipython3",
   "version": "3.8.2"
  }
 },
 "nbformat": 4,
 "nbformat_minor": 4
}
