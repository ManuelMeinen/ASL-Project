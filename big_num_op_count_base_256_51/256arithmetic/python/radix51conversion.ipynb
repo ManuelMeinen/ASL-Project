{
 "cells": [
  {
   "cell_type": "code",
   "execution_count": 4,
   "metadata": {},
   "outputs": [
    {
     "name": "stdout",
     "output_type": "stream",
     "text": [
      "57896044618658097711785492504343953926634992332820282019728792003956564819949\n",
      "\n",
      "\n",
      "111111111111111111111111111111111111111111111111111111111111111111111111111111111111111111111111111111111111111111111111111111111111111111111111111111111111111111111111111111111111111111111111111111111111111111111111111111111111111111111111111111111101101\n",
      "\n"
     ]
    }
   ],
   "source": [
    "import random \n",
    "a = random.getrandbits(254)\n",
    "b= random.getrandbits(254)\n",
    "\n",
    "a = 57896044618658097711785492504343953926634992332820282019728792003956564819949 \n",
    "b = 5649734864292336303463734965115728368166763170818036420831276255457235347538\n",
    "\n",
    "print(a)\n",
    "print()\n",
    "#print(b)\n",
    "print()\n",
    "\n",
    "a = str(bin(a))[2:].zfill(255)\n",
    "#b = str(bin(b))[2:].zfill(255)\n",
    "\n",
    "print(a)\n",
    "print()\n",
    "#print(b)"
   ]
  },
  {
   "cell_type": "code",
   "execution_count": 6,
   "metadata": {},
   "outputs": [
    {
     "ename": "SyntaxError",
     "evalue": "invalid syntax (<ipython-input-6-69008e51bb61>, line 1)",
     "output_type": "error",
     "traceback": [
      "\u001b[1;36m  File \u001b[1;32m\"<ipython-input-6-69008e51bb61>\"\u001b[1;36m, line \u001b[1;32m1\u001b[0m\n\u001b[1;33m    splitter(str(a), limbs[]){\u001b[0m\n\u001b[1;37m                           ^\u001b[0m\n\u001b[1;31mSyntaxError\u001b[0m\u001b[1;31m:\u001b[0m invalid syntax\n"
     ]
    }
   ],
   "source": [
    "splitter(a:str, limbs[]){\n",
    "    limbs[4] = a[0:51]\n",
    "    limbs[3] = a[52:102]\n",
    "    limbs[2] = a[102:153]\n",
    "    limbs[1] = a[153:204]\n",
    "    limbs[0] = a[]\n",
    "\n",
    "}"
   ]
  },
  {
   "cell_type": "code",
   "execution_count": null,
   "metadata": {},
   "outputs": [],
   "source": []
  },
  {
   "cell_type": "code",
   "execution_count": null,
   "metadata": {},
   "outputs": [],
   "source": []
  }
 ],
 "metadata": {
  "kernelspec": {
   "display_name": "Python 3",
   "language": "python",
   "name": "python3"
  },
  "language_info": {
   "codemirror_mode": {
    "name": "ipython",
    "version": 3
   },
   "file_extension": ".py",
   "mimetype": "text/x-python",
   "name": "python",
   "nbconvert_exporter": "python",
   "pygments_lexer": "ipython3",
   "version": "3.7.4"
  }
 },
 "nbformat": 4,
 "nbformat_minor": 2
}
