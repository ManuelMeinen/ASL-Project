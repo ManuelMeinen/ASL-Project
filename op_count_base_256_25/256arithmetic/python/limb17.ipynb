{
 "cells": [
  {
   "cell_type": "code",
   "execution_count": 26,
   "metadata": {
    "colab": {},
    "colab_type": "code",
    "id": "Uy6-Cr_mexfC"
   },
   "outputs": [],
   "source": [
    "LIMB_SIZE = 17\n",
    "NO_LIMBS = int(255/LIMB_SIZE)\n",
    "def get_limbs17(x):\n",
    "  l = []\n",
    "  for i in range(0,NO_LIMBS-1):\n",
    "    #print(LIMB_SIZE*i,LIMB_SIZE*(i+1))\n",
    "    v = int(x[LIMB_SIZE*i:LIMB_SIZE*(i+1)],2)\n",
    "    l.append(v)\n",
    "  #print(len(x[LIMB_SIZE*(NO_LIMBS-1):256]))\n",
    "  v = int(x[LIMB_SIZE*(NO_LIMBS-1):256],2)\n",
    "  l.append(v)\n",
    "  l.reverse()\n",
    "  return l\n",
    "\n",
    "def check(l, a):\n",
    "  bstr = \"\"\n",
    "  for i in range(NO_LIMBS-1,-1,-1):  \n",
    "    bstr = bstr + (str(bin(l[i]))[2:]).zfill(LIMB_SIZE)\n",
    "  print(int(bstr,2))\n",
    "  print(int(a,2))"
   ]
  },
  {
   "cell_type": "code",
   "execution_count": 59,
   "metadata": {
    "colab": {},
    "colab_type": "code",
    "id": "3BdbUnwYe3rV"
   },
   "outputs": [
    {
     "name": "stdout",
     "output_type": "stream",
     "text": [
      "[93848, 98738, 33478, 93614, 28872, 94227, 67689, 56183, 5696, 49829, 67138, 101447, 15544, 71231, 30135]\n",
      "[93378, 87592, 99224, 129887, 91690, 114010, 62066, 58051, 58184, 38652, 92295, 55055, 40636, 33242, 25333]\n",
      "[74901, 3972, 81019, 112246, 67178, 78665, 127341, 67663, 63403, 41862, 87376, 130945, 47594, 395, 53540]\n",
      "[54233, 81767, 29032, 17725, 116251, 127851, 62773, 39204, 84177, 38459, 1975, 54940, 100872, 52493, 33464]\n",
      "[39785, 33445, 49043, 86998, 112102, 97145, 64532, 8308, 82549, 52723, 56148, 26953, 97157, 126881, 106872]\n"
     ]
    }
   ],
   "source": [
    "a_d = 13311224122668955738146552185873637781933051739291637575097427091064598392472\n",
    "b_d = 11189996199370894582589062329635885928504840703623090769010532534865250839746\n",
    "\n",
    "l_a = get_limbs17((str(bin(a_d))[2:]).zfill(255))\n",
    "l_b = get_limbs17((str(bin(b_d))[2:]).zfill(255))\n",
    "\n",
    "print(l_a)\n",
    "print(l_b)\n",
    "\n",
    "py_res = (a_d  * a_d)%(2**255 - 19)\n",
    "l_p = get_limbs17((str(bin(py_res))[2:]).zfill(255))\n",
    "print(l_p)\n",
    "\n",
    "\n",
    "# res = 486662\n",
    "# l_res = get_limbs17((str(bin(res))[2:]).zfill(255))\n",
    "# print(l_res)\n",
    "\n",
    "# # 2977, 4396, 34741, 21973, 109200, 63040, 24835, 51519, 93608, 55765, 98642, 10162, 43047, 64281, 93724, \n",
    "\n",
    "y = 14781619447589544791020593568409986887264606134616475288964881837755586237401\n",
    "l_y = get_limbs17((str(bin(y))[2:]).zfill(255))\n",
    "print(l_y)\n",
    "\n",
    "a = 47207047467371016620573774013302623541596043322884641568737335023041604393833\n",
    "l_a = get_limbs17((str(bin(a))[2:]).zfill(255))\n",
    "print(l_a)\n",
    "\n"
   ]
  },
  {
   "cell_type": "code",
   "execution_count": null,
   "metadata": {},
   "outputs": [],
   "source": []
  }
 ],
 "metadata": {
  "colab": {
   "collapsed_sections": [],
   "name": "limb51.ipynb",
   "provenance": []
  },
  "kernelspec": {
   "display_name": "Python 3",
   "language": "python",
   "name": "python3"
  },
  "language_info": {
   "codemirror_mode": {
    "name": "ipython",
    "version": 3
   },
   "file_extension": ".py",
   "mimetype": "text/x-python",
   "name": "python",
   "nbconvert_exporter": "python",
   "pygments_lexer": "ipython3",
   "version": "3.8.2"
  }
 },
 "nbformat": 4,
 "nbformat_minor": 1
}
